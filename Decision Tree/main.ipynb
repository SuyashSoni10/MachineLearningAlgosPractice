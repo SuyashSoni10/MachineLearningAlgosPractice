{
 "cells": [
  {
   "cell_type": "code",
   "execution_count": 12,
   "metadata": {},
   "outputs": [],
   "source": [
    "# import kagglehub\n",
    "\n",
    "# # Download latest version\n",
    "# path = kagglehub.dataset_download(\"noeyislearning/apple-inc-historical-stock\")\n",
    "\n",
    "# print(\"Path to dataset files:\", path)"
   ]
  },
  {
   "cell_type": "code",
   "execution_count": 13,
   "metadata": {},
   "outputs": [],
   "source": [
    "import pandas as pd\n",
    "import numpy as np\n",
    "\n",
    "dataset = pd.read_csv(\"D:\\\\ML PROJECTS\\\\AML lab\\\\dataset\\\\apple_stock.csv\")"
   ]
  },
  {
   "cell_type": "code",
   "execution_count": 14,
   "metadata": {},
   "outputs": [
    {
     "data": {
      "text/html": [
       "<div>\n",
       "<style scoped>\n",
       "    .dataframe tbody tr th:only-of-type {\n",
       "        vertical-align: middle;\n",
       "    }\n",
       "\n",
       "    .dataframe tbody tr th {\n",
       "        vertical-align: top;\n",
       "    }\n",
       "\n",
       "    .dataframe thead th {\n",
       "        text-align: right;\n",
       "    }\n",
       "</style>\n",
       "<table border=\"1\" class=\"dataframe\">\n",
       "  <thead>\n",
       "    <tr style=\"text-align: right;\">\n",
       "      <th></th>\n",
       "      <th>Date</th>\n",
       "      <th>Adj Close</th>\n",
       "      <th>Close</th>\n",
       "      <th>High</th>\n",
       "      <th>Low</th>\n",
       "      <th>Open</th>\n",
       "      <th>Volume</th>\n",
       "    </tr>\n",
       "  </thead>\n",
       "  <tbody>\n",
       "    <tr>\n",
       "      <th>247</th>\n",
       "      <td>2024-10-28 00:00:00+00:00</td>\n",
       "      <td>233.399994</td>\n",
       "      <td>233.399994</td>\n",
       "      <td>234.729996</td>\n",
       "      <td>232.550003</td>\n",
       "      <td>233.320007</td>\n",
       "      <td>36087100</td>\n",
       "    </tr>\n",
       "    <tr>\n",
       "      <th>248</th>\n",
       "      <td>2024-10-29 00:00:00+00:00</td>\n",
       "      <td>233.669998</td>\n",
       "      <td>233.669998</td>\n",
       "      <td>234.330002</td>\n",
       "      <td>232.320007</td>\n",
       "      <td>233.100006</td>\n",
       "      <td>35417200</td>\n",
       "    </tr>\n",
       "    <tr>\n",
       "      <th>249</th>\n",
       "      <td>2024-10-30 00:00:00+00:00</td>\n",
       "      <td>230.100006</td>\n",
       "      <td>230.100006</td>\n",
       "      <td>233.470001</td>\n",
       "      <td>229.550003</td>\n",
       "      <td>232.610001</td>\n",
       "      <td>47070900</td>\n",
       "    </tr>\n",
       "    <tr>\n",
       "      <th>250</th>\n",
       "      <td>2024-10-31 00:00:00+00:00</td>\n",
       "      <td>225.910004</td>\n",
       "      <td>225.910004</td>\n",
       "      <td>229.830002</td>\n",
       "      <td>225.369995</td>\n",
       "      <td>229.339996</td>\n",
       "      <td>64370100</td>\n",
       "    </tr>\n",
       "    <tr>\n",
       "      <th>251</th>\n",
       "      <td>2024-11-01 00:00:00+00:00</td>\n",
       "      <td>222.910004</td>\n",
       "      <td>222.910004</td>\n",
       "      <td>225.350006</td>\n",
       "      <td>220.270004</td>\n",
       "      <td>220.970001</td>\n",
       "      <td>65242200</td>\n",
       "    </tr>\n",
       "  </tbody>\n",
       "</table>\n",
       "</div>"
      ],
      "text/plain": [
       "                          Date   Adj Close       Close        High  \\\n",
       "247  2024-10-28 00:00:00+00:00  233.399994  233.399994  234.729996   \n",
       "248  2024-10-29 00:00:00+00:00  233.669998  233.669998  234.330002   \n",
       "249  2024-10-30 00:00:00+00:00  230.100006  230.100006  233.470001   \n",
       "250  2024-10-31 00:00:00+00:00  225.910004  225.910004  229.830002   \n",
       "251  2024-11-01 00:00:00+00:00  222.910004  222.910004  225.350006   \n",
       "\n",
       "            Low        Open    Volume  \n",
       "247  232.550003  233.320007  36087100  \n",
       "248  232.320007  233.100006  35417200  \n",
       "249  229.550003  232.610001  47070900  \n",
       "250  225.369995  229.339996  64370100  \n",
       "251  220.270004  220.970001  65242200  "
      ]
     },
     "execution_count": 14,
     "metadata": {},
     "output_type": "execute_result"
    }
   ],
   "source": [
    "dataset.tail()"
   ]
  },
  {
   "cell_type": "code",
   "execution_count": 15,
   "metadata": {},
   "outputs": [],
   "source": [
    "# import kagglehub\n",
    "\n",
    "# # Download latest version\n",
    "# path = kagglehub.dataset_download(\"tarunpaparaju/apple-aapl-historical-stock-data\")\n",
    "\n",
    "# print(\"Path to dataset files:\", path)"
   ]
  },
  {
   "cell_type": "code",
   "execution_count": 16,
   "metadata": {},
   "outputs": [
    {
     "name": "stdout",
     "output_type": "stream",
     "text": [
      "<class 'pandas.core.frame.DataFrame'>\n",
      "RangeIndex: 2518 entries, 0 to 2517\n",
      "Data columns (total 6 columns):\n",
      " #   Column       Non-Null Count  Dtype \n",
      "---  ------       --------------  ----- \n",
      " 0   Date         2518 non-null   object\n",
      " 1    Close/Last  2518 non-null   object\n",
      " 2    Volume      2518 non-null   int64 \n",
      " 3    Open        2518 non-null   object\n",
      " 4    High        2518 non-null   object\n",
      " 5    Low         2518 non-null   object\n",
      "dtypes: int64(1), object(5)\n",
      "memory usage: 118.2+ KB\n"
     ]
    }
   ],
   "source": [
    "#df = pd.read_csv('D:\\\\ML PROJECTS\\\\AML lab\\\\augmented_financial_data.csv') \n",
    "df = pd.read_csv('dataset\\HistoricalQuotes.csv')\n",
    "df.info()"
   ]
  },
  {
   "cell_type": "code",
   "execution_count": 17,
   "metadata": {},
   "outputs": [
    {
     "data": {
      "text/html": [
       "<div>\n",
       "<style scoped>\n",
       "    .dataframe tbody tr th:only-of-type {\n",
       "        vertical-align: middle;\n",
       "    }\n",
       "\n",
       "    .dataframe tbody tr th {\n",
       "        vertical-align: top;\n",
       "    }\n",
       "\n",
       "    .dataframe thead th {\n",
       "        text-align: right;\n",
       "    }\n",
       "</style>\n",
       "<table border=\"1\" class=\"dataframe\">\n",
       "  <thead>\n",
       "    <tr style=\"text-align: right;\">\n",
       "      <th></th>\n",
       "      <th>Date</th>\n",
       "      <th>Close/Last</th>\n",
       "      <th>Volume</th>\n",
       "      <th>Open</th>\n",
       "      <th>High</th>\n",
       "      <th>Low</th>\n",
       "    </tr>\n",
       "  </thead>\n",
       "  <tbody>\n",
       "    <tr>\n",
       "      <th>0</th>\n",
       "      <td>02/28/2020</td>\n",
       "      <td>$273.36</td>\n",
       "      <td>106721200</td>\n",
       "      <td>$257.26</td>\n",
       "      <td>$278.41</td>\n",
       "      <td>$256.37</td>\n",
       "    </tr>\n",
       "    <tr>\n",
       "      <th>1</th>\n",
       "      <td>02/27/2020</td>\n",
       "      <td>$273.52</td>\n",
       "      <td>80151380</td>\n",
       "      <td>$281.1</td>\n",
       "      <td>$286</td>\n",
       "      <td>$272.96</td>\n",
       "    </tr>\n",
       "    <tr>\n",
       "      <th>2</th>\n",
       "      <td>02/26/2020</td>\n",
       "      <td>$292.65</td>\n",
       "      <td>49678430</td>\n",
       "      <td>$286.53</td>\n",
       "      <td>$297.88</td>\n",
       "      <td>$286.5</td>\n",
       "    </tr>\n",
       "    <tr>\n",
       "      <th>3</th>\n",
       "      <td>02/25/2020</td>\n",
       "      <td>$288.08</td>\n",
       "      <td>57668360</td>\n",
       "      <td>$300.95</td>\n",
       "      <td>$302.53</td>\n",
       "      <td>$286.13</td>\n",
       "    </tr>\n",
       "    <tr>\n",
       "      <th>4</th>\n",
       "      <td>02/24/2020</td>\n",
       "      <td>$298.18</td>\n",
       "      <td>55548830</td>\n",
       "      <td>$297.26</td>\n",
       "      <td>$304.18</td>\n",
       "      <td>$289.23</td>\n",
       "    </tr>\n",
       "    <tr>\n",
       "      <th>5</th>\n",
       "      <td>02/21/2020</td>\n",
       "      <td>$313.05</td>\n",
       "      <td>32426420</td>\n",
       "      <td>$318.62</td>\n",
       "      <td>$320.45</td>\n",
       "      <td>$310.5</td>\n",
       "    </tr>\n",
       "    <tr>\n",
       "      <th>6</th>\n",
       "      <td>02/20/2020</td>\n",
       "      <td>$320.3</td>\n",
       "      <td>25141490</td>\n",
       "      <td>$322.63</td>\n",
       "      <td>$324.65</td>\n",
       "      <td>$318.21</td>\n",
       "    </tr>\n",
       "    <tr>\n",
       "      <th>7</th>\n",
       "      <td>02/19/2020</td>\n",
       "      <td>$323.62</td>\n",
       "      <td>23495990</td>\n",
       "      <td>$320</td>\n",
       "      <td>$324.57</td>\n",
       "      <td>$320</td>\n",
       "    </tr>\n",
       "    <tr>\n",
       "      <th>8</th>\n",
       "      <td>02/18/2020</td>\n",
       "      <td>$319</td>\n",
       "      <td>38190550</td>\n",
       "      <td>$315.36</td>\n",
       "      <td>$319.75</td>\n",
       "      <td>$314.61</td>\n",
       "    </tr>\n",
       "    <tr>\n",
       "      <th>9</th>\n",
       "      <td>02/14/2020</td>\n",
       "      <td>$324.95</td>\n",
       "      <td>20028450</td>\n",
       "      <td>$324.74</td>\n",
       "      <td>$325.98</td>\n",
       "      <td>$322.85</td>\n",
       "    </tr>\n",
       "  </tbody>\n",
       "</table>\n",
       "</div>"
      ],
      "text/plain": [
       "         Date  Close/Last     Volume      Open      High       Low\n",
       "0  02/28/2020     $273.36  106721200   $257.26   $278.41   $256.37\n",
       "1  02/27/2020     $273.52   80151380    $281.1      $286   $272.96\n",
       "2  02/26/2020     $292.65   49678430   $286.53   $297.88    $286.5\n",
       "3  02/25/2020     $288.08   57668360   $300.95   $302.53   $286.13\n",
       "4  02/24/2020     $298.18   55548830   $297.26   $304.18   $289.23\n",
       "5  02/21/2020     $313.05   32426420   $318.62   $320.45    $310.5\n",
       "6  02/20/2020      $320.3   25141490   $322.63   $324.65   $318.21\n",
       "7  02/19/2020     $323.62   23495990      $320   $324.57      $320\n",
       "8  02/18/2020        $319   38190550   $315.36   $319.75   $314.61\n",
       "9  02/14/2020     $324.95   20028450   $324.74   $325.98   $322.85"
      ]
     },
     "execution_count": 17,
     "metadata": {},
     "output_type": "execute_result"
    }
   ],
   "source": [
    "df.head(10)"
   ]
  },
  {
   "cell_type": "code",
   "execution_count": 1,
   "metadata": {},
   "outputs": [
    {
     "name": "stdout",
     "output_type": "stream",
     "text": [
      "Columns: ['Date', 'Close/Last', 'Volume', 'Open', 'High', 'Low']\n",
      "Dataset shape: (2518, 6)\n",
      "        Date Close/Last     Volume       Open       High        Low\n",
      "0 2010-03-01   $29.8557  137312041   $29.3928   $29.9286     $29.35\n",
      "1 2010-03-02   $29.8357  141486282     $29.99   $30.1186   $29.6771\n",
      "2 2010-03-03   $29.9043   92846488   $29.8486   $29.9814   $29.7057\n",
      "3 2010-03-04   $30.1014   89591907   $29.8971   $30.1314   $29.8043\n",
      "4 2010-03-05   $31.2786  224647427   $30.7057   $31.3857   $30.6614\n"
     ]
    }
   ],
   "source": [
    "import pandas as pd\n",
    "import numpy as np\n",
    "from sklearn.tree import DecisionTreeClassifier\n",
    "from sklearn.model_selection import train_test_split\n",
    "from sklearn.metrics import accuracy_score, classification_report, confusion_matrix\n",
    "\n",
    "# Load your dataset\n",
    "df = pd.read_csv('dataset\\HistoricalQuotes.csv') # Replace with your actual file path\n",
    "df.columns = df.columns.str.strip()\n",
    "print(\"Columns:\", df.columns.tolist())\n",
    "\n",
    "#-------------\n",
    "#QUICK OPTIMIZATION FOR 2000 SAMPLES\n",
    "# print(f\"Original dataset size: {len(df_clean)}\")\n",
    "\n",
    "# # Better split ratio\n",
    "# split_index = int(len(df_clean) * 0.75)  # 75/25 instead of 80/20\n",
    "\n",
    "# # Adjusted model parameters\n",
    "# model = DecisionTreeClassifier(\n",
    "#     max_depth=8,              # Reduced for better generalization\n",
    "#     min_samples_split=10,     # Reduced to allow more splits\n",
    "#     min_samples_leaf=5,       # Reduced for smaller dataset\n",
    "#     max_features='sqrt',\n",
    "#     class_weight='balanced',\n",
    "#     random_state=42\n",
    "# )\n",
    "\n",
    "# print(f\"Optimized for {len(df_clean)} samples\")\n",
    "# print(f\"Training: {split_index} samples ({split_index/len(df_clean):.1%})\")\n",
    "# print(f\"Testing: {len(df_clean)-split_index} samples ({(len(df_clean)-split_index)/len(df_clean):.1%})\")\n",
    "#-------------\n",
    "\n",
    "\n",
    "# Convert Date to datetime and sort\n",
    "df['Date'] = pd.to_datetime(df['Date'])\n",
    "df = df.sort_values('Date').reset_index(drop=True)\n",
    "\n",
    "print(\"Dataset shape:\", df.shape)\n",
    "print(df.head())"
   ]
  },
  {
   "cell_type": "code",
   "execution_count": 2,
   "metadata": {},
   "outputs": [
    {
     "ename": "TypeError",
     "evalue": "unsupported operand type(s) for -: 'str' and 'str'",
     "output_type": "error",
     "traceback": [
      "\u001b[1;31m---------------------------------------------------------------------------\u001b[0m",
      "\u001b[1;31mTypeError\u001b[0m                                 Traceback (most recent call last)",
      "File \u001b[1;32mc:\\Users\\suyas\\AppData\\Local\\Programs\\Python\\Python310\\lib\\site-packages\\pandas\\core\\ops\\array_ops.py:218\u001b[0m, in \u001b[0;36m_na_arithmetic_op\u001b[1;34m(left, right, op, is_cmp)\u001b[0m\n\u001b[0;32m    217\u001b[0m \u001b[38;5;28;01mtry\u001b[39;00m:\n\u001b[1;32m--> 218\u001b[0m     result \u001b[38;5;241m=\u001b[39m \u001b[43mfunc\u001b[49m\u001b[43m(\u001b[49m\u001b[43mleft\u001b[49m\u001b[43m,\u001b[49m\u001b[43m \u001b[49m\u001b[43mright\u001b[49m\u001b[43m)\u001b[49m\n\u001b[0;32m    219\u001b[0m \u001b[38;5;28;01mexcept\u001b[39;00m \u001b[38;5;167;01mTypeError\u001b[39;00m:\n",
      "File \u001b[1;32mc:\\Users\\suyas\\AppData\\Local\\Programs\\Python\\Python310\\lib\\site-packages\\pandas\\core\\computation\\expressions.py:242\u001b[0m, in \u001b[0;36mevaluate\u001b[1;34m(op, a, b, use_numexpr)\u001b[0m\n\u001b[0;32m    240\u001b[0m     \u001b[38;5;28;01mif\u001b[39;00m use_numexpr:\n\u001b[0;32m    241\u001b[0m         \u001b[38;5;66;03m# error: \"None\" not callable\u001b[39;00m\n\u001b[1;32m--> 242\u001b[0m         \u001b[38;5;28;01mreturn\u001b[39;00m \u001b[43m_evaluate\u001b[49m\u001b[43m(\u001b[49m\u001b[43mop\u001b[49m\u001b[43m,\u001b[49m\u001b[43m \u001b[49m\u001b[43mop_str\u001b[49m\u001b[43m,\u001b[49m\u001b[43m \u001b[49m\u001b[43ma\u001b[49m\u001b[43m,\u001b[49m\u001b[43m \u001b[49m\u001b[43mb\u001b[49m\u001b[43m)\u001b[49m  \u001b[38;5;66;03m# type: ignore[misc]\u001b[39;00m\n\u001b[0;32m    243\u001b[0m \u001b[38;5;28;01mreturn\u001b[39;00m _evaluate_standard(op, op_str, a, b)\n",
      "File \u001b[1;32mc:\\Users\\suyas\\AppData\\Local\\Programs\\Python\\Python310\\lib\\site-packages\\pandas\\core\\computation\\expressions.py:73\u001b[0m, in \u001b[0;36m_evaluate_standard\u001b[1;34m(op, op_str, a, b)\u001b[0m\n\u001b[0;32m     72\u001b[0m     _store_test_result(\u001b[38;5;28;01mFalse\u001b[39;00m)\n\u001b[1;32m---> 73\u001b[0m \u001b[38;5;28;01mreturn\u001b[39;00m \u001b[43mop\u001b[49m\u001b[43m(\u001b[49m\u001b[43ma\u001b[49m\u001b[43m,\u001b[49m\u001b[43m \u001b[49m\u001b[43mb\u001b[49m\u001b[43m)\u001b[49m\n",
      "\u001b[1;31mTypeError\u001b[0m: unsupported operand type(s) for -: 'str' and 'str'",
      "\nDuring handling of the above exception, another exception occurred:\n",
      "\u001b[1;31mTypeError\u001b[0m                                 Traceback (most recent call last)",
      "Cell \u001b[1;32mIn[2], line 3\u001b[0m\n\u001b[0;32m      1\u001b[0m \u001b[38;5;66;03m# Calculate next day's price change percentag\u001b[39;00m\n\u001b[0;32m      2\u001b[0m df[\u001b[38;5;124m'\u001b[39m\u001b[38;5;124mNext_Day_Close\u001b[39m\u001b[38;5;124m'\u001b[39m] \u001b[38;5;241m=\u001b[39m df[\u001b[38;5;124m'\u001b[39m\u001b[38;5;124mClose/Last\u001b[39m\u001b[38;5;124m'\u001b[39m]\u001b[38;5;241m.\u001b[39mshift(\u001b[38;5;241m-\u001b[39m\u001b[38;5;241m1\u001b[39m)\n\u001b[1;32m----> 3\u001b[0m df[\u001b[38;5;124m'\u001b[39m\u001b[38;5;124mPrice_Change_Pct\u001b[39m\u001b[38;5;124m'\u001b[39m] \u001b[38;5;241m=\u001b[39m (\u001b[43mdf\u001b[49m\u001b[43m[\u001b[49m\u001b[38;5;124;43m'\u001b[39;49m\u001b[38;5;124;43mNext_Day_Close\u001b[39;49m\u001b[38;5;124;43m'\u001b[39;49m\u001b[43m]\u001b[49m\u001b[43m \u001b[49m\u001b[38;5;241;43m-\u001b[39;49m\u001b[43m \u001b[49m\u001b[43mdf\u001b[49m\u001b[43m[\u001b[49m\u001b[38;5;124;43m'\u001b[39;49m\u001b[38;5;124;43mClose/Last\u001b[39;49m\u001b[38;5;124;43m'\u001b[39;49m\u001b[43m]\u001b[49m) \u001b[38;5;241m/\u001b[39m df[\u001b[38;5;124m'\u001b[39m\u001b[38;5;124mClose/Last\u001b[39m\u001b[38;5;124m'\u001b[39m]\n\u001b[0;32m      6\u001b[0m \u001b[38;5;66;03m# Multi-class classification with threshold (e.g., 1%)\u001b[39;00m\n\u001b[0;32m      7\u001b[0m threshold \u001b[38;5;241m=\u001b[39m \u001b[38;5;241m0.01\u001b[39m  \u001b[38;5;66;03m# 1% threshold - you can adjust this\u001b[39;00m\n",
      "File \u001b[1;32mc:\\Users\\suyas\\AppData\\Local\\Programs\\Python\\Python310\\lib\\site-packages\\pandas\\core\\ops\\common.py:76\u001b[0m, in \u001b[0;36m_unpack_zerodim_and_defer.<locals>.new_method\u001b[1;34m(self, other)\u001b[0m\n\u001b[0;32m     72\u001b[0m             \u001b[38;5;28;01mreturn\u001b[39;00m \u001b[38;5;28mNotImplemented\u001b[39m\n\u001b[0;32m     74\u001b[0m other \u001b[38;5;241m=\u001b[39m item_from_zerodim(other)\n\u001b[1;32m---> 76\u001b[0m \u001b[38;5;28;01mreturn\u001b[39;00m \u001b[43mmethod\u001b[49m\u001b[43m(\u001b[49m\u001b[38;5;28;43mself\u001b[39;49m\u001b[43m,\u001b[49m\u001b[43m \u001b[49m\u001b[43mother\u001b[49m\u001b[43m)\u001b[49m\n",
      "File \u001b[1;32mc:\\Users\\suyas\\AppData\\Local\\Programs\\Python\\Python310\\lib\\site-packages\\pandas\\core\\arraylike.py:194\u001b[0m, in \u001b[0;36mOpsMixin.__sub__\u001b[1;34m(self, other)\u001b[0m\n\u001b[0;32m    192\u001b[0m \u001b[38;5;129m@unpack_zerodim_and_defer\u001b[39m(\u001b[38;5;124m\"\u001b[39m\u001b[38;5;124m__sub__\u001b[39m\u001b[38;5;124m\"\u001b[39m)\n\u001b[0;32m    193\u001b[0m \u001b[38;5;28;01mdef\u001b[39;00m \u001b[38;5;21m__sub__\u001b[39m(\u001b[38;5;28mself\u001b[39m, other):\n\u001b[1;32m--> 194\u001b[0m     \u001b[38;5;28;01mreturn\u001b[39;00m \u001b[38;5;28;43mself\u001b[39;49m\u001b[38;5;241;43m.\u001b[39;49m\u001b[43m_arith_method\u001b[49m\u001b[43m(\u001b[49m\u001b[43mother\u001b[49m\u001b[43m,\u001b[49m\u001b[43m \u001b[49m\u001b[43moperator\u001b[49m\u001b[38;5;241;43m.\u001b[39;49m\u001b[43msub\u001b[49m\u001b[43m)\u001b[49m\n",
      "File \u001b[1;32mc:\\Users\\suyas\\AppData\\Local\\Programs\\Python\\Python310\\lib\\site-packages\\pandas\\core\\series.py:6135\u001b[0m, in \u001b[0;36mSeries._arith_method\u001b[1;34m(self, other, op)\u001b[0m\n\u001b[0;32m   6133\u001b[0m \u001b[38;5;28;01mdef\u001b[39;00m \u001b[38;5;21m_arith_method\u001b[39m(\u001b[38;5;28mself\u001b[39m, other, op):\n\u001b[0;32m   6134\u001b[0m     \u001b[38;5;28mself\u001b[39m, other \u001b[38;5;241m=\u001b[39m \u001b[38;5;28mself\u001b[39m\u001b[38;5;241m.\u001b[39m_align_for_op(other)\n\u001b[1;32m-> 6135\u001b[0m     \u001b[38;5;28;01mreturn\u001b[39;00m \u001b[43mbase\u001b[49m\u001b[38;5;241;43m.\u001b[39;49m\u001b[43mIndexOpsMixin\u001b[49m\u001b[38;5;241;43m.\u001b[39;49m\u001b[43m_arith_method\u001b[49m\u001b[43m(\u001b[49m\u001b[38;5;28;43mself\u001b[39;49m\u001b[43m,\u001b[49m\u001b[43m \u001b[49m\u001b[43mother\u001b[49m\u001b[43m,\u001b[49m\u001b[43m \u001b[49m\u001b[43mop\u001b[49m\u001b[43m)\u001b[49m\n",
      "File \u001b[1;32mc:\\Users\\suyas\\AppData\\Local\\Programs\\Python\\Python310\\lib\\site-packages\\pandas\\core\\base.py:1382\u001b[0m, in \u001b[0;36mIndexOpsMixin._arith_method\u001b[1;34m(self, other, op)\u001b[0m\n\u001b[0;32m   1379\u001b[0m     rvalues \u001b[38;5;241m=\u001b[39m np\u001b[38;5;241m.\u001b[39marange(rvalues\u001b[38;5;241m.\u001b[39mstart, rvalues\u001b[38;5;241m.\u001b[39mstop, rvalues\u001b[38;5;241m.\u001b[39mstep)\n\u001b[0;32m   1381\u001b[0m \u001b[38;5;28;01mwith\u001b[39;00m np\u001b[38;5;241m.\u001b[39merrstate(\u001b[38;5;28mall\u001b[39m\u001b[38;5;241m=\u001b[39m\u001b[38;5;124m\"\u001b[39m\u001b[38;5;124mignore\u001b[39m\u001b[38;5;124m\"\u001b[39m):\n\u001b[1;32m-> 1382\u001b[0m     result \u001b[38;5;241m=\u001b[39m \u001b[43mops\u001b[49m\u001b[38;5;241;43m.\u001b[39;49m\u001b[43marithmetic_op\u001b[49m\u001b[43m(\u001b[49m\u001b[43mlvalues\u001b[49m\u001b[43m,\u001b[49m\u001b[43m \u001b[49m\u001b[43mrvalues\u001b[49m\u001b[43m,\u001b[49m\u001b[43m \u001b[49m\u001b[43mop\u001b[49m\u001b[43m)\u001b[49m\n\u001b[0;32m   1384\u001b[0m \u001b[38;5;28;01mreturn\u001b[39;00m \u001b[38;5;28mself\u001b[39m\u001b[38;5;241m.\u001b[39m_construct_result(result, name\u001b[38;5;241m=\u001b[39mres_name)\n",
      "File \u001b[1;32mc:\\Users\\suyas\\AppData\\Local\\Programs\\Python\\Python310\\lib\\site-packages\\pandas\\core\\ops\\array_ops.py:283\u001b[0m, in \u001b[0;36marithmetic_op\u001b[1;34m(left, right, op)\u001b[0m\n\u001b[0;32m    279\u001b[0m     _bool_arith_check(op, left, right)  \u001b[38;5;66;03m# type: ignore[arg-type]\u001b[39;00m\n\u001b[0;32m    281\u001b[0m     \u001b[38;5;66;03m# error: Argument 1 to \"_na_arithmetic_op\" has incompatible type\u001b[39;00m\n\u001b[0;32m    282\u001b[0m     \u001b[38;5;66;03m# \"Union[ExtensionArray, ndarray[Any, Any]]\"; expected \"ndarray[Any, Any]\"\u001b[39;00m\n\u001b[1;32m--> 283\u001b[0m     res_values \u001b[38;5;241m=\u001b[39m \u001b[43m_na_arithmetic_op\u001b[49m\u001b[43m(\u001b[49m\u001b[43mleft\u001b[49m\u001b[43m,\u001b[49m\u001b[43m \u001b[49m\u001b[43mright\u001b[49m\u001b[43m,\u001b[49m\u001b[43m \u001b[49m\u001b[43mop\u001b[49m\u001b[43m)\u001b[49m  \u001b[38;5;66;03m# type: ignore[arg-type]\u001b[39;00m\n\u001b[0;32m    285\u001b[0m \u001b[38;5;28;01mreturn\u001b[39;00m res_values\n",
      "File \u001b[1;32mc:\\Users\\suyas\\AppData\\Local\\Programs\\Python\\Python310\\lib\\site-packages\\pandas\\core\\ops\\array_ops.py:227\u001b[0m, in \u001b[0;36m_na_arithmetic_op\u001b[1;34m(left, right, op, is_cmp)\u001b[0m\n\u001b[0;32m    219\u001b[0m \u001b[38;5;28;01mexcept\u001b[39;00m \u001b[38;5;167;01mTypeError\u001b[39;00m:\n\u001b[0;32m    220\u001b[0m     \u001b[38;5;28;01mif\u001b[39;00m \u001b[38;5;129;01mnot\u001b[39;00m is_cmp \u001b[38;5;129;01mand\u001b[39;00m (\n\u001b[0;32m    221\u001b[0m         left\u001b[38;5;241m.\u001b[39mdtype \u001b[38;5;241m==\u001b[39m \u001b[38;5;28mobject\u001b[39m \u001b[38;5;129;01mor\u001b[39;00m \u001b[38;5;28mgetattr\u001b[39m(right, \u001b[38;5;124m\"\u001b[39m\u001b[38;5;124mdtype\u001b[39m\u001b[38;5;124m\"\u001b[39m, \u001b[38;5;28;01mNone\u001b[39;00m) \u001b[38;5;241m==\u001b[39m \u001b[38;5;28mobject\u001b[39m\n\u001b[0;32m    222\u001b[0m     ):\n\u001b[1;32m   (...)\u001b[0m\n\u001b[0;32m    225\u001b[0m         \u001b[38;5;66;03m# Don't do this for comparisons, as that will handle complex numbers\u001b[39;00m\n\u001b[0;32m    226\u001b[0m         \u001b[38;5;66;03m#  incorrectly, see GH#32047\u001b[39;00m\n\u001b[1;32m--> 227\u001b[0m         result \u001b[38;5;241m=\u001b[39m \u001b[43m_masked_arith_op\u001b[49m\u001b[43m(\u001b[49m\u001b[43mleft\u001b[49m\u001b[43m,\u001b[49m\u001b[43m \u001b[49m\u001b[43mright\u001b[49m\u001b[43m,\u001b[49m\u001b[43m \u001b[49m\u001b[43mop\u001b[49m\u001b[43m)\u001b[49m\n\u001b[0;32m    228\u001b[0m     \u001b[38;5;28;01melse\u001b[39;00m:\n\u001b[0;32m    229\u001b[0m         \u001b[38;5;28;01mraise\u001b[39;00m\n",
      "File \u001b[1;32mc:\\Users\\suyas\\AppData\\Local\\Programs\\Python\\Python310\\lib\\site-packages\\pandas\\core\\ops\\array_ops.py:163\u001b[0m, in \u001b[0;36m_masked_arith_op\u001b[1;34m(x, y, op)\u001b[0m\n\u001b[0;32m    161\u001b[0m     \u001b[38;5;66;03m# See GH#5284, GH#5035, GH#19448 for historical reference\u001b[39;00m\n\u001b[0;32m    162\u001b[0m     \u001b[38;5;28;01mif\u001b[39;00m mask\u001b[38;5;241m.\u001b[39many():\n\u001b[1;32m--> 163\u001b[0m         result[mask] \u001b[38;5;241m=\u001b[39m \u001b[43mop\u001b[49m\u001b[43m(\u001b[49m\u001b[43mxrav\u001b[49m\u001b[43m[\u001b[49m\u001b[43mmask\u001b[49m\u001b[43m]\u001b[49m\u001b[43m,\u001b[49m\u001b[43m \u001b[49m\u001b[43myrav\u001b[49m\u001b[43m[\u001b[49m\u001b[43mmask\u001b[49m\u001b[43m]\u001b[49m\u001b[43m)\u001b[49m\n\u001b[0;32m    165\u001b[0m \u001b[38;5;28;01melse\u001b[39;00m:\n\u001b[0;32m    166\u001b[0m     \u001b[38;5;28;01mif\u001b[39;00m \u001b[38;5;129;01mnot\u001b[39;00m is_scalar(y):\n",
      "\u001b[1;31mTypeError\u001b[0m: unsupported operand type(s) for -: 'str' and 'str'"
     ]
    }
   ],
   "source": [
    "# Calculate next day's price change percentag\n",
    "df['Next_Day_Close'] = df['Close/Last'].shift(-1)\n",
    "df['Price_Change_Pct'] = (df['Next_Day_Close'] - df['Close/Last']) / df['Close/Last']\n",
    "\n",
    "\n",
    "# Multi-class classification with threshold (e.g., 1%)\n",
    "threshold = 0.01  # 1% threshold - you can adjust this\n",
    "\n",
    "df['Price_Direction'] = np.where(df['Price_Change_Pct'] > threshold, 2,      # Up (significant increase)\n",
    "                                np.where(df['Price_Change_Pct'] < -threshold, 0, 1))  # Down, Sideways\n",
    "\n",
    "# Create labels for better interpretation\n",
    "direction_labels = {0: 'Down', 1: 'Sideways', 2: 'Up'}\n",
    "df['Direction_Label'] = df['Price_Direction'].map(direction_labels)\n",
    "\n",
    "print(\"Multi-Class Price Direction Distribution:\")\n",
    "print(df['Price_Direction'].value_counts().sort_index())\n",
    "print(\"\\nPercentage Distribution:\")\n",
    "print(df['Price_Direction'].value_counts(normalize=True).sort_index())"
   ]
  },
  {
   "cell_type": "code",
   "execution_count": 3,
   "metadata": {},
   "outputs": [],
   "source": [
    "# Add this before feature selection\n",
    "# df['returns'] = df['returns'].fillna(df['Close'].pct_change())\n",
    "# df['ma_5'] = df['ma_5'].fillna(df['Close'].rolling(5).mean())\n",
    "# df['ma_20'] = df['ma_20'].fillna(df['Close'].rolling(20).mean())"
   ]
  },
  {
   "cell_type": "code",
   "execution_count": 4,
   "metadata": {},
   "outputs": [
    {
     "ename": "KeyError",
     "evalue": "'Close'",
     "output_type": "error",
     "traceback": [
      "\u001b[1;31m---------------------------------------------------------------------------\u001b[0m",
      "\u001b[1;31mKeyError\u001b[0m                                  Traceback (most recent call last)",
      "File \u001b[1;32mc:\\Users\\suyas\\AppData\\Local\\Programs\\Python\\Python310\\lib\\site-packages\\pandas\\core\\indexes\\base.py:3805\u001b[0m, in \u001b[0;36mIndex.get_loc\u001b[1;34m(self, key)\u001b[0m\n\u001b[0;32m   3804\u001b[0m \u001b[38;5;28;01mtry\u001b[39;00m:\n\u001b[1;32m-> 3805\u001b[0m     \u001b[38;5;28;01mreturn\u001b[39;00m \u001b[38;5;28;43mself\u001b[39;49m\u001b[38;5;241;43m.\u001b[39;49m\u001b[43m_engine\u001b[49m\u001b[38;5;241;43m.\u001b[39;49m\u001b[43mget_loc\u001b[49m\u001b[43m(\u001b[49m\u001b[43mcasted_key\u001b[49m\u001b[43m)\u001b[49m\n\u001b[0;32m   3806\u001b[0m \u001b[38;5;28;01mexcept\u001b[39;00m \u001b[38;5;167;01mKeyError\u001b[39;00m \u001b[38;5;28;01mas\u001b[39;00m err:\n",
      "File \u001b[1;32mindex.pyx:167\u001b[0m, in \u001b[0;36mpandas._libs.index.IndexEngine.get_loc\u001b[1;34m()\u001b[0m\n",
      "File \u001b[1;32mindex.pyx:196\u001b[0m, in \u001b[0;36mpandas._libs.index.IndexEngine.get_loc\u001b[1;34m()\u001b[0m\n",
      "File \u001b[1;32mpandas\\\\_libs\\\\hashtable_class_helper.pxi:7081\u001b[0m, in \u001b[0;36mpandas._libs.hashtable.PyObjectHashTable.get_item\u001b[1;34m()\u001b[0m\n",
      "File \u001b[1;32mpandas\\\\_libs\\\\hashtable_class_helper.pxi:7089\u001b[0m, in \u001b[0;36mpandas._libs.hashtable.PyObjectHashTable.get_item\u001b[1;34m()\u001b[0m\n",
      "\u001b[1;31mKeyError\u001b[0m: 'Close'",
      "\nThe above exception was the direct cause of the following exception:\n",
      "\u001b[1;31mKeyError\u001b[0m                                  Traceback (most recent call last)",
      "Cell \u001b[1;32mIn[4], line 2\u001b[0m\n\u001b[0;32m      1\u001b[0m \u001b[38;5;66;03m# Technical indicators that help predict direction\u001b[39;00m\n\u001b[1;32m----> 2\u001b[0m df[\u001b[38;5;124m'\u001b[39m\u001b[38;5;124mPrice_Change\u001b[39m\u001b[38;5;124m'\u001b[39m] \u001b[38;5;241m=\u001b[39m \u001b[43mdf\u001b[49m\u001b[43m[\u001b[49m\u001b[38;5;124;43m'\u001b[39;49m\u001b[38;5;124;43mClose\u001b[39;49m\u001b[38;5;124;43m'\u001b[39;49m\u001b[43m]\u001b[49m\u001b[38;5;241m.\u001b[39mpct_change()\n\u001b[0;32m      3\u001b[0m df[\u001b[38;5;124m'\u001b[39m\u001b[38;5;124mVolume_Change\u001b[39m\u001b[38;5;124m'\u001b[39m] \u001b[38;5;241m=\u001b[39m df[\u001b[38;5;124m'\u001b[39m\u001b[38;5;124mVolume\u001b[39m\u001b[38;5;124m'\u001b[39m]\u001b[38;5;241m.\u001b[39mpct_change()\n\u001b[0;32m      5\u001b[0m \u001b[38;5;66;03m# Moving averages\u001b[39;00m\n",
      "File \u001b[1;32mc:\\Users\\suyas\\AppData\\Local\\Programs\\Python\\Python310\\lib\\site-packages\\pandas\\core\\frame.py:4102\u001b[0m, in \u001b[0;36mDataFrame.__getitem__\u001b[1;34m(self, key)\u001b[0m\n\u001b[0;32m   4100\u001b[0m \u001b[38;5;28;01mif\u001b[39;00m \u001b[38;5;28mself\u001b[39m\u001b[38;5;241m.\u001b[39mcolumns\u001b[38;5;241m.\u001b[39mnlevels \u001b[38;5;241m>\u001b[39m \u001b[38;5;241m1\u001b[39m:\n\u001b[0;32m   4101\u001b[0m     \u001b[38;5;28;01mreturn\u001b[39;00m \u001b[38;5;28mself\u001b[39m\u001b[38;5;241m.\u001b[39m_getitem_multilevel(key)\n\u001b[1;32m-> 4102\u001b[0m indexer \u001b[38;5;241m=\u001b[39m \u001b[38;5;28;43mself\u001b[39;49m\u001b[38;5;241;43m.\u001b[39;49m\u001b[43mcolumns\u001b[49m\u001b[38;5;241;43m.\u001b[39;49m\u001b[43mget_loc\u001b[49m\u001b[43m(\u001b[49m\u001b[43mkey\u001b[49m\u001b[43m)\u001b[49m\n\u001b[0;32m   4103\u001b[0m \u001b[38;5;28;01mif\u001b[39;00m is_integer(indexer):\n\u001b[0;32m   4104\u001b[0m     indexer \u001b[38;5;241m=\u001b[39m [indexer]\n",
      "File \u001b[1;32mc:\\Users\\suyas\\AppData\\Local\\Programs\\Python\\Python310\\lib\\site-packages\\pandas\\core\\indexes\\base.py:3812\u001b[0m, in \u001b[0;36mIndex.get_loc\u001b[1;34m(self, key)\u001b[0m\n\u001b[0;32m   3807\u001b[0m     \u001b[38;5;28;01mif\u001b[39;00m \u001b[38;5;28misinstance\u001b[39m(casted_key, \u001b[38;5;28mslice\u001b[39m) \u001b[38;5;129;01mor\u001b[39;00m (\n\u001b[0;32m   3808\u001b[0m         \u001b[38;5;28misinstance\u001b[39m(casted_key, abc\u001b[38;5;241m.\u001b[39mIterable)\n\u001b[0;32m   3809\u001b[0m         \u001b[38;5;129;01mand\u001b[39;00m \u001b[38;5;28many\u001b[39m(\u001b[38;5;28misinstance\u001b[39m(x, \u001b[38;5;28mslice\u001b[39m) \u001b[38;5;28;01mfor\u001b[39;00m x \u001b[38;5;129;01min\u001b[39;00m casted_key)\n\u001b[0;32m   3810\u001b[0m     ):\n\u001b[0;32m   3811\u001b[0m         \u001b[38;5;28;01mraise\u001b[39;00m InvalidIndexError(key)\n\u001b[1;32m-> 3812\u001b[0m     \u001b[38;5;28;01mraise\u001b[39;00m \u001b[38;5;167;01mKeyError\u001b[39;00m(key) \u001b[38;5;28;01mfrom\u001b[39;00m \u001b[38;5;21;01merr\u001b[39;00m\n\u001b[0;32m   3813\u001b[0m \u001b[38;5;28;01mexcept\u001b[39;00m \u001b[38;5;167;01mTypeError\u001b[39;00m:\n\u001b[0;32m   3814\u001b[0m     \u001b[38;5;66;03m# If we have a listlike key, _check_indexing_error will raise\u001b[39;00m\n\u001b[0;32m   3815\u001b[0m     \u001b[38;5;66;03m#  InvalidIndexError. Otherwise we fall through and re-raise\u001b[39;00m\n\u001b[0;32m   3816\u001b[0m     \u001b[38;5;66;03m#  the TypeError.\u001b[39;00m\n\u001b[0;32m   3817\u001b[0m     \u001b[38;5;28mself\u001b[39m\u001b[38;5;241m.\u001b[39m_check_indexing_error(key)\n",
      "\u001b[1;31mKeyError\u001b[0m: 'Close'"
     ]
    }
   ],
   "source": [
    "# Technical indicators that help predict direction\n",
    "df['Price_Change'] = df['Close'].pct_change()\n",
    "df['Volume_Change'] = df['Volume'].pct_change()\n",
    "\n",
    "# Moving averages\n",
    "df['SMA_5'] = df['Close'].rolling(window=5).mean()\n",
    "df['SMA_10'] = df['Close'].rolling(window=10).mean()\n",
    "df['Price_Above_SMA5'] = (df['Close'] > df['SMA_5']).astype(int)\n",
    "df['Price_Above_SMA10'] = (df['Close'] > df['SMA_10']).astype(int)\n",
    "\n",
    "# Volatility indicators\n",
    "df['Volatility'] = df['Price_Change'].rolling(window=5).std()\n",
    "df['High_Low_Ratio'] = df['High'] / df['Low']\n",
    "df['Open_Close_Ratio'] = df['Open'] / df['Close']\n",
    "\n",
    "# Price position within the day's range\n",
    "df['Price_Position'] = (df['Close'] - df['Low']) / (df['High'] - df['Low'])\n",
    "\n",
    "# Previous day's performance\n",
    "df['Prev_Day_Up'] = (df['Close'] > df['Close'].shift(1)).astype(int)\n",
    "df['Prev_Day_Volume'] = df['Volume'].shift(1)\n",
    "\n",
    "# Momentum indicators\n",
    "df['Price_Momentum_3'] = df['Close'] / df['Close'].shift(3)\n",
    "df['Volume_Momentum_3'] = df['Volume'] / df['Volume'].shift(3)\n",
    "\n",
    "print(\"Features created successfully!\")"
   ]
  },
  {
   "cell_type": "code",
   "execution_count": 31,
   "metadata": {},
   "outputs": [
    {
     "name": "stdout",
     "output_type": "stream",
     "text": [
      "Dataset shape after cleaning: (2518, 6)\n"
     ]
    },
    {
     "ename": "KeyError",
     "evalue": "\"['Price_Change', 'Volume_Change', 'Price_Above_SMA5', 'Price_Above_SMA10', 'Volatility', 'High_Low_Ratio', 'Open_Close_Ratio', 'Price_Position', 'Prev_Day_Up', 'Price_Momentum_3', 'Volume_Momentum_3'] not in index\"",
     "output_type": "error",
     "traceback": [
      "\u001b[1;31m---------------------------------------------------------------------------\u001b[0m",
      "\u001b[1;31mKeyError\u001b[0m                                  Traceback (most recent call last)",
      "Cell \u001b[1;32mIn[31], line 16\u001b[0m\n\u001b[0;32m     13\u001b[0m \u001b[38;5;28mprint\u001b[39m(\u001b[38;5;124mf\u001b[39m\u001b[38;5;124m\"\u001b[39m\u001b[38;5;124mDataset shape after cleaning: \u001b[39m\u001b[38;5;132;01m{\u001b[39;00mdf_clean\u001b[38;5;241m.\u001b[39mshape\u001b[38;5;132;01m}\u001b[39;00m\u001b[38;5;124m\"\u001b[39m)\n\u001b[0;32m     15\u001b[0m \u001b[38;5;66;03m# Prepare features and target\u001b[39;00m\n\u001b[1;32m---> 16\u001b[0m X \u001b[38;5;241m=\u001b[39m \u001b[43mdf_clean\u001b[49m\u001b[43m[\u001b[49m\u001b[43mfeatures\u001b[49m\u001b[43m]\u001b[49m\n\u001b[0;32m     17\u001b[0m y \u001b[38;5;241m=\u001b[39m df_clean[\u001b[38;5;124m'\u001b[39m\u001b[38;5;124mPrice_Direction\u001b[39m\u001b[38;5;124m'\u001b[39m]\n\u001b[0;32m     19\u001b[0m \u001b[38;5;28mprint\u001b[39m(\u001b[38;5;124mf\u001b[39m\u001b[38;5;124m\"\u001b[39m\u001b[38;5;124mFinal features shape: \u001b[39m\u001b[38;5;132;01m{\u001b[39;00mX\u001b[38;5;241m.\u001b[39mshape\u001b[38;5;132;01m}\u001b[39;00m\u001b[38;5;124m\"\u001b[39m)\n",
      "File \u001b[1;32mc:\\Users\\suyas\\AppData\\Local\\Programs\\Python\\Python310\\lib\\site-packages\\pandas\\core\\frame.py:4108\u001b[0m, in \u001b[0;36mDataFrame.__getitem__\u001b[1;34m(self, key)\u001b[0m\n\u001b[0;32m   4106\u001b[0m     \u001b[38;5;28;01mif\u001b[39;00m is_iterator(key):\n\u001b[0;32m   4107\u001b[0m         key \u001b[38;5;241m=\u001b[39m \u001b[38;5;28mlist\u001b[39m(key)\n\u001b[1;32m-> 4108\u001b[0m     indexer \u001b[38;5;241m=\u001b[39m \u001b[38;5;28;43mself\u001b[39;49m\u001b[38;5;241;43m.\u001b[39;49m\u001b[43mcolumns\u001b[49m\u001b[38;5;241;43m.\u001b[39;49m\u001b[43m_get_indexer_strict\u001b[49m\u001b[43m(\u001b[49m\u001b[43mkey\u001b[49m\u001b[43m,\u001b[49m\u001b[43m \u001b[49m\u001b[38;5;124;43m\"\u001b[39;49m\u001b[38;5;124;43mcolumns\u001b[39;49m\u001b[38;5;124;43m\"\u001b[39;49m\u001b[43m)\u001b[49m[\u001b[38;5;241m1\u001b[39m]\n\u001b[0;32m   4110\u001b[0m \u001b[38;5;66;03m# take() does not accept boolean indexers\u001b[39;00m\n\u001b[0;32m   4111\u001b[0m \u001b[38;5;28;01mif\u001b[39;00m \u001b[38;5;28mgetattr\u001b[39m(indexer, \u001b[38;5;124m\"\u001b[39m\u001b[38;5;124mdtype\u001b[39m\u001b[38;5;124m\"\u001b[39m, \u001b[38;5;28;01mNone\u001b[39;00m) \u001b[38;5;241m==\u001b[39m \u001b[38;5;28mbool\u001b[39m:\n",
      "File \u001b[1;32mc:\\Users\\suyas\\AppData\\Local\\Programs\\Python\\Python310\\lib\\site-packages\\pandas\\core\\indexes\\base.py:6200\u001b[0m, in \u001b[0;36mIndex._get_indexer_strict\u001b[1;34m(self, key, axis_name)\u001b[0m\n\u001b[0;32m   6197\u001b[0m \u001b[38;5;28;01melse\u001b[39;00m:\n\u001b[0;32m   6198\u001b[0m     keyarr, indexer, new_indexer \u001b[38;5;241m=\u001b[39m \u001b[38;5;28mself\u001b[39m\u001b[38;5;241m.\u001b[39m_reindex_non_unique(keyarr)\n\u001b[1;32m-> 6200\u001b[0m \u001b[38;5;28;43mself\u001b[39;49m\u001b[38;5;241;43m.\u001b[39;49m\u001b[43m_raise_if_missing\u001b[49m\u001b[43m(\u001b[49m\u001b[43mkeyarr\u001b[49m\u001b[43m,\u001b[49m\u001b[43m \u001b[49m\u001b[43mindexer\u001b[49m\u001b[43m,\u001b[49m\u001b[43m \u001b[49m\u001b[43maxis_name\u001b[49m\u001b[43m)\u001b[49m\n\u001b[0;32m   6202\u001b[0m keyarr \u001b[38;5;241m=\u001b[39m \u001b[38;5;28mself\u001b[39m\u001b[38;5;241m.\u001b[39mtake(indexer)\n\u001b[0;32m   6203\u001b[0m \u001b[38;5;28;01mif\u001b[39;00m \u001b[38;5;28misinstance\u001b[39m(key, Index):\n\u001b[0;32m   6204\u001b[0m     \u001b[38;5;66;03m# GH 42790 - Preserve name from an Index\u001b[39;00m\n",
      "File \u001b[1;32mc:\\Users\\suyas\\AppData\\Local\\Programs\\Python\\Python310\\lib\\site-packages\\pandas\\core\\indexes\\base.py:6252\u001b[0m, in \u001b[0;36mIndex._raise_if_missing\u001b[1;34m(self, key, indexer, axis_name)\u001b[0m\n\u001b[0;32m   6249\u001b[0m     \u001b[38;5;28;01mraise\u001b[39;00m \u001b[38;5;167;01mKeyError\u001b[39;00m(\u001b[38;5;124mf\u001b[39m\u001b[38;5;124m\"\u001b[39m\u001b[38;5;124mNone of [\u001b[39m\u001b[38;5;132;01m{\u001b[39;00mkey\u001b[38;5;132;01m}\u001b[39;00m\u001b[38;5;124m] are in the [\u001b[39m\u001b[38;5;132;01m{\u001b[39;00maxis_name\u001b[38;5;132;01m}\u001b[39;00m\u001b[38;5;124m]\u001b[39m\u001b[38;5;124m\"\u001b[39m)\n\u001b[0;32m   6251\u001b[0m not_found \u001b[38;5;241m=\u001b[39m \u001b[38;5;28mlist\u001b[39m(ensure_index(key)[missing_mask\u001b[38;5;241m.\u001b[39mnonzero()[\u001b[38;5;241m0\u001b[39m]]\u001b[38;5;241m.\u001b[39munique())\n\u001b[1;32m-> 6252\u001b[0m \u001b[38;5;28;01mraise\u001b[39;00m \u001b[38;5;167;01mKeyError\u001b[39;00m(\u001b[38;5;124mf\u001b[39m\u001b[38;5;124m\"\u001b[39m\u001b[38;5;132;01m{\u001b[39;00mnot_found\u001b[38;5;132;01m}\u001b[39;00m\u001b[38;5;124m not in index\u001b[39m\u001b[38;5;124m\"\u001b[39m)\n",
      "\u001b[1;31mKeyError\u001b[0m: \"['Price_Change', 'Volume_Change', 'Price_Above_SMA5', 'Price_Above_SMA10', 'Volatility', 'High_Low_Ratio', 'Open_Close_Ratio', 'Price_Position', 'Prev_Day_Up', 'Price_Momentum_3', 'Volume_Momentum_3'] not in index\""
     ]
    }
   ],
   "source": [
    "# Select relevant features for direction prediction\n",
    "features = [\n",
    "    'Open', 'High', 'Low', 'Volume',\n",
    "    'Price_Change', 'Volume_Change',\n",
    "    'Price_Above_SMA5', 'Price_Above_SMA10',\n",
    "    'Volatility', 'High_Low_Ratio', 'Open_Close_Ratio',\n",
    "    'Price_Position', 'Prev_Day_Up',\n",
    "    'Price_Momentum_3', 'Volume_Momentum_3'\n",
    "]\n",
    "\n",
    "# Remove rows with NaN values\n",
    "df_clean = df.dropna()\n",
    "print(f\"Dataset shape after cleaning: {df_clean.shape}\")\n",
    "\n",
    "# Prepare features and target\n",
    "X = df_clean[features]\n",
    "y = df_clean['Price_Direction']\n",
    "\n",
    "print(f\"Final features shape: {X.shape}\")\n",
    "print(f\"Multi-class target distribution after cleaning:\")\n",
    "print(y.value_counts(normalize=True).sort_index())"
   ]
  },
  {
   "cell_type": "code",
   "execution_count": 5,
   "metadata": {},
   "outputs": [
    {
     "ename": "NameError",
     "evalue": "name 'df_clean' is not defined",
     "output_type": "error",
     "traceback": [
      "\u001b[1;31m---------------------------------------------------------------------------\u001b[0m",
      "\u001b[1;31mNameError\u001b[0m                                 Traceback (most recent call last)",
      "Cell \u001b[1;32mIn[5], line 2\u001b[0m\n\u001b[0;32m      1\u001b[0m \u001b[38;5;66;03m# Time-based split (important for time series)\u001b[39;00m\n\u001b[1;32m----> 2\u001b[0m split_index \u001b[38;5;241m=\u001b[39m \u001b[38;5;28mint\u001b[39m(\u001b[38;5;28mlen\u001b[39m(\u001b[43mdf_clean\u001b[49m) \u001b[38;5;241m*\u001b[39m \u001b[38;5;241m0.80\u001b[39m)\n\u001b[0;32m      4\u001b[0m X_train \u001b[38;5;241m=\u001b[39m X[:split_index]\n\u001b[0;32m      5\u001b[0m X_test \u001b[38;5;241m=\u001b[39m X[split_index:]\n",
      "\u001b[1;31mNameError\u001b[0m: name 'df_clean' is not defined"
     ]
    }
   ],
   "source": [
    "# Time-based split (important for time series)\n",
    "split_index = int(len(df_clean) * 0.80)\n",
    "\n",
    "X_train = X[:split_index]\n",
    "X_test = X[split_index:]\n",
    "y_train = y[:split_index]\n",
    "y_test = y[split_index:]\n",
    "\n",
    "print(f\"Training set: {X_train.shape[0]} samples (75%)\")\n",
    "print(f\"Test set: {X_test.shape[0]} samples (25%)\")"
   ]
  },
  {
   "cell_type": "code",
   "execution_count": 47,
   "metadata": {},
   "outputs": [
    {
     "ename": "NameError",
     "evalue": "name 'X_train' is not defined",
     "output_type": "error",
     "traceback": [
      "\u001b[1;31m---------------------------------------------------------------------------\u001b[0m",
      "\u001b[1;31mNameError\u001b[0m                                 Traceback (most recent call last)",
      "Cell \u001b[1;32mIn[47], line 12\u001b[0m\n\u001b[0;32m      2\u001b[0m model \u001b[38;5;241m=\u001b[39m DecisionTreeClassifier(\n\u001b[0;32m      3\u001b[0m     max_depth\u001b[38;5;241m=\u001b[39m\u001b[38;5;241m8\u001b[39m,             \u001b[38;5;66;03m# Slightly deeper for 3-class problem\u001b[39;00m\n\u001b[0;32m      4\u001b[0m     min_samples_split\u001b[38;5;241m=\u001b[39m\u001b[38;5;241m10\u001b[39m,     \u001b[38;5;66;03m# Adjust for 3 classes\u001b[39;00m\n\u001b[1;32m   (...)\u001b[0m\n\u001b[0;32m      8\u001b[0m     random_state\u001b[38;5;241m=\u001b[39m\u001b[38;5;241m42\u001b[39m\n\u001b[0;32m      9\u001b[0m )\n\u001b[0;32m     11\u001b[0m \u001b[38;5;66;03m# Train the model\u001b[39;00m\n\u001b[1;32m---> 12\u001b[0m model\u001b[38;5;241m.\u001b[39mfit(\u001b[43mX_train\u001b[49m, y_train)\n\u001b[0;32m     14\u001b[0m \u001b[38;5;66;03m# Make predictions\u001b[39;00m\n\u001b[0;32m     15\u001b[0m y_pred \u001b[38;5;241m=\u001b[39m model\u001b[38;5;241m.\u001b[39mpredict(X_test)\n",
      "\u001b[1;31mNameError\u001b[0m: name 'X_train' is not defined"
     ]
    }
   ],
   "source": [
    "# Create decision tree classifier for multi-class\n",
    "model = DecisionTreeClassifier(\n",
    "    max_depth=8,             # Slightly deeper for 3-class problem\n",
    "    min_samples_split=10,     # Adjust for 3 classes\n",
    "    min_samples_leaf=5,       # Smaller leaf size for 3 classes\n",
    "    max_features='sqrt',      # Use subset of features\n",
    "    class_weight='balanced',  # Handle class imbalance\n",
    "    random_state=42\n",
    ")\n",
    "\n",
    "# Train the model\n",
    "model.fit(X_train, y_train)\n",
    "\n",
    "# Make predictions\n",
    "y_pred = model.predict(X_test)\n",
    "y_pred_proba = model.predict_proba(X_test)  # Probabilities for all 3 classes\n",
    "\n",
    "print(\"Multi-class model trained successfully!\")"
   ]
  },
  {
   "cell_type": "code",
   "execution_count": 175,
   "metadata": {},
   "outputs": [
    {
     "name": "stdout",
     "output_type": "stream",
     "text": [
      "Cross-validation accuracy: 0.6000 (±0.0201)\n"
     ]
    }
   ],
   "source": [
    "from sklearn.model_selection import TimeSeriesSplit\n",
    "\n",
    "# Add this after your current model training\n",
    "tscv = TimeSeriesSplit(n_splits=5)\n",
    "cv_scores = []\n",
    "\n",
    "for train_idx, test_idx in tscv.split(X):\n",
    "    X_train_cv = X.iloc[train_idx]\n",
    "    X_test_cv = X.iloc[test_idx]\n",
    "    y_train_cv = y.iloc[train_idx]\n",
    "    y_test_cv = y.iloc[test_idx]\n",
    "    \n",
    "    model.fit(X_train_cv, y_train_cv)\n",
    "    y_pred_cv = model.predict(X_test_cv)\n",
    "    cv_scores.append(accuracy_score(y_test_cv, y_pred_cv))\n",
    "\n",
    "print(f\"Cross-validation accuracy: {np.mean(cv_scores):.4f} (±{np.std(cv_scores):.4f})\")"
   ]
  },
  {
   "cell_type": "code",
   "execution_count": 176,
   "metadata": {},
   "outputs": [
    {
     "name": "stdout",
     "output_type": "stream",
     "text": [
      "Overall Accuracy: 0.6143\n",
      "\n",
      "Classification Report:\n",
      "              precision    recall  f1-score   support\n",
      "\n",
      "        Down       0.74      0.66      0.70        35\n",
      "    Sideways       0.00      0.00      0.00         2\n",
      "          Up       0.74      0.61      0.67        33\n",
      "\n",
      "    accuracy                           0.61        70\n",
      "   macro avg       0.49      0.42      0.45        70\n",
      "weighted avg       0.72      0.61      0.66        70\n",
      "\n",
      "\n",
      "Confusion Matrix:\n",
      "       Down  Sideways  Up\n",
      "  Down: [23  6  6]\n",
      "Sideways: [1 0 1]\n",
      "    Up: [ 7  6 20]\n",
      "\n",
      "Class-specific Performance:\n",
      "Down: Precision=0.7419, Recall=0.6571\n",
      "Sideways: Precision=0.0000, Recall=0.0000\n",
      "Up: Precision=0.7407, Recall=0.6061\n"
     ]
    }
   ],
   "source": [
    "# Basic accuracy\n",
    "accuracy = accuracy_score(y_test, y_pred)\n",
    "print(f\"Overall Accuracy: {accuracy:.4f}\")\n",
    "\n",
    "# Detailed classification report for 3 classes\n",
    "target_names = ['Down', 'Sideways', 'Up']\n",
    "print(\"\\nClassification Report:\")\n",
    "print(classification_report(y_test, y_pred, target_names=target_names))\n",
    "\n",
    "# Confusion matrix\n",
    "print(\"\\nConfusion Matrix:\")\n",
    "cm = confusion_matrix(y_test, y_pred)\n",
    "print(\"       Down  Sideways  Up\")\n",
    "for i, row in enumerate(cm):\n",
    "    print(f\"{target_names[i]:>6}: {row}\")\n",
    "\n",
    "# Class-specific metrics\n",
    "print(\"\\nClass-specific Performance:\")\n",
    "for i, class_name in enumerate(target_names):\n",
    "    class_precision = cm[i, i] / cm[:, i].sum() if cm[:, i].sum() > 0 else 0\n",
    "    class_recall = cm[i, i] / cm[i, :].sum() if cm[i, :].sum() > 0 else 0\n",
    "    print(f\"{class_name}: Precision={class_precision:.4f}, Recall={class_recall:.4f}\")"
   ]
  },
  {
   "cell_type": "code",
   "execution_count": 177,
   "metadata": {},
   "outputs": [
    {
     "name": "stdout",
     "output_type": "stream",
     "text": [
      "\n",
      "Trading Strategy Analysis:\n",
      "When predicting UP: Accuracy = 0.7407\n",
      "When predicting DOWN: Accuracy = 0.7419\n",
      "High confidence predictions (>60%): Accuracy = 0.7069\n",
      "High confidence predictions: 58/70 = 82.86%\n"
     ]
    }
   ],
   "source": [
    "# Trading strategy analysis\n",
    "print(\"\\nTrading Strategy Analysis:\")\n",
    "\n",
    "# If you only trade on strong UP predictions\n",
    "up_predictions = (y_pred == 2)\n",
    "if up_predictions.sum() > 0:\n",
    "    up_accuracy = (y_test[up_predictions] == 2).mean()\n",
    "    print(f\"When predicting UP: Accuracy = {up_accuracy:.4f}\")\n",
    "\n",
    "# If you only trade on strong DOWN predictions\n",
    "down_predictions = (y_pred == 0)\n",
    "if down_predictions.sum() > 0:\n",
    "    down_accuracy = (y_test[down_predictions] == 0).mean()\n",
    "    print(f\"When predicting DOWN: Accuracy = {down_accuracy:.4f}\")\n",
    "\n",
    "# Conservative strategy: only trade on high confidence predictions\n",
    "max_proba = y_pred_proba.max(axis=1)\n",
    "high_confidence = max_proba > 0.6  # 60% confidence threshold\n",
    "\n",
    "if high_confidence.sum() > 0:\n",
    "    high_conf_accuracy = (y_test[high_confidence] == y_pred[high_confidence]).mean()\n",
    "    print(f\"High confidence predictions (>60%): Accuracy = {high_conf_accuracy:.4f}\")\n",
    "    print(f\"High confidence predictions: {high_confidence.sum()}/{len(y_test)} = {high_confidence.mean():.2%}\")"
   ]
  },
  {
   "cell_type": "code",
   "execution_count": 178,
   "metadata": {},
   "outputs": [
    {
     "name": "stdout",
     "output_type": "stream",
     "text": [
      "\n",
      "Top 10 Most Important Features:\n",
      "              feature  importance\n",
      "0                Open    0.258303\n",
      "10   Open_Close_Ratio    0.157114\n",
      "3              Volume    0.122808\n",
      "14  Volume_Momentum_3    0.115290\n",
      "1                High    0.098965\n",
      "11     Price_Position    0.075564\n",
      "5       Volume_Change    0.058635\n",
      "2                 Low    0.047733\n",
      "4        Price_Change    0.044148\n",
      "9      High_Low_Ratio    0.020579\n"
     ]
    }
   ],
   "source": [
    "# Feature importance\n",
    "feature_importance = pd.DataFrame({\n",
    "    'feature': features,\n",
    "    'importance': model.feature_importances_\n",
    "}).sort_values('importance', ascending=False)\n",
    "\n",
    "print(\"\\nTop 10 Most Important Features:\")\n",
    "print(feature_importance.head(10))"
   ]
  },
  {
   "cell_type": "code",
   "execution_count": 179,
   "metadata": {},
   "outputs": [
    {
     "name": "stdout",
     "output_type": "stream",
     "text": [
      "\n",
      "Recent Multi-Class Predictions:\n",
      "        Date  Actual_Close Predicted_Direction  Prob_Down  Prob_Sideways  \\\n",
      "0 2024-10-27       227.595            Sideways      0.145          0.855   \n",
      "1 2024-10-28       214.331                Down      0.618          0.000   \n",
      "2 2024-10-29       192.856                Down      0.853          0.000   \n",
      "3 2024-10-31       183.769                  Up      0.000          0.000   \n",
      "4 2024-10-31       221.044                Down      0.765          0.174   \n",
      "\n",
      "   Prob_Up Actual_Direction  \n",
      "0    0.000             Down  \n",
      "1    0.382             Down  \n",
      "2    0.147               Up  \n",
      "3    1.000               Up  \n",
      "4    0.061             Down  \n"
     ]
    }
   ],
   "source": [
    "# Example: Predict direction for the last few days\n",
    "last_5_days = X_test.tail(5)\n",
    "predictions = model.predict(last_5_days)\n",
    "probabilities = model.predict_proba(last_5_days)\n",
    "\n",
    "results = pd.DataFrame({\n",
    "    'Date': df_clean['Date'].iloc[-5:].values,\n",
    "    'Actual_Close': df_clean['Close'].iloc[-5:].values,\n",
    "    'Predicted_Direction': [target_names[p] for p in predictions],\n",
    "    'Prob_Down': probabilities[:, 0],\n",
    "    'Prob_Sideways': probabilities[:, 1],\n",
    "    'Prob_Up': probabilities[:, 2],\n",
    "    'Actual_Direction': [target_names[a] for a in y_test.tail(5)]\n",
    "})\n",
    "\n",
    "print(\"\\nRecent Multi-Class Predictions:\")\n",
    "print(results.round(3))"
   ]
  },
  {
   "cell_type": "code",
   "execution_count": 180,
   "metadata": {},
   "outputs": [
    {
     "name": "stdout",
     "output_type": "stream",
     "text": [
      "\n",
      "Recent Multi-Class Prediction:\n",
      "        Date  Actual_Close Predicted_Direction  Prob_Down  Prob_Sideways  \\\n",
      "0 2024-10-31       221.044                Down      0.765          0.174   \n",
      "\n",
      "   Prob_Up Actual_Direction  \n",
      "0    0.061             Down  \n"
     ]
    }
   ],
   "source": [
    "# Example: Predict direction for the last day\n",
    "last_1_day = X_test.tail(1)  # Changed from 5 to 1\n",
    "predictions = model.predict(last_1_day)\n",
    "probabilities = model.predict_proba(last_1_day)\n",
    "\n",
    "results = pd.DataFrame({\n",
    "    'Date': df_clean['Date'].iloc[-1:].values,  # Changed from -5: to -1:\n",
    "    'Actual_Close': df_clean['Close'].iloc[-1:].values,  # Changed from -5: to -1:\n",
    "    'Predicted_Direction': [target_names[p] for p in predictions],\n",
    "    'Prob_Down': probabilities[:, 0],\n",
    "    'Prob_Sideways': probabilities[:, 1],\n",
    "    'Prob_Up': probabilities[:, 2],\n",
    "    'Actual_Direction': [target_names[a] for a in y_test.tail(1)]  # Changed from 5 to 1\n",
    "})\n",
    "\n",
    "print(\"\\nRecent Multi-Class Prediction:\")  # Changed \"Predictions\" to \"Prediction\"\n",
    "print(results.round(3))"
   ]
  },
  {
   "cell_type": "code",
   "execution_count": 188,
   "metadata": {},
   "outputs": [
    {
     "name": "stdout",
     "output_type": "stream",
     "text": [
      "Last date in dataset: 2024-10-31 00:00:00+00:00\n",
      "\n",
      "Future Predictions:\n",
      "                       Date Predicted_Direction  Prob_Down  Prob_Sideways  \\\n",
      "0 2024-11-01 00:00:00+00:00                Down      0.765          0.174   \n",
      "1 2024-11-02 00:00:00+00:00                Down      0.765          0.174   \n",
      "2 2024-11-03 00:00:00+00:00                Down      0.765          0.174   \n",
      "3 2024-11-04 00:00:00+00:00                Down      0.765          0.174   \n",
      "4 2024-11-05 00:00:00+00:00                Down      0.765          0.174   \n",
      "\n",
      "   Prob_Up  \n",
      "0    0.061  \n",
      "1    0.061  \n",
      "2    0.061  \n",
      "3    0.061  \n",
      "4    0.061  \n"
     ]
    },
    {
     "name": "stderr",
     "output_type": "stream",
     "text": [
      "c:\\Users\\suyas\\AppData\\Local\\Programs\\Python\\Python310\\lib\\site-packages\\sklearn\\utils\\validation.py:2739: UserWarning: X does not have valid feature names, but DecisionTreeClassifier was fitted with feature names\n",
      "  warnings.warn(\n",
      "c:\\Users\\suyas\\AppData\\Local\\Programs\\Python\\Python310\\lib\\site-packages\\sklearn\\utils\\validation.py:2739: UserWarning: X does not have valid feature names, but DecisionTreeClassifier was fitted with feature names\n",
      "  warnings.warn(\n"
     ]
    }
   ],
   "source": [
    "# Method 1: Predict for specific future dates\n",
    "from datetime import datetime, timedelta\n",
    "\n",
    "# Get the last date in your dataset\n",
    "last_date = df_clean['Date'].iloc[-1]\n",
    "print(f\"Last date in dataset: {last_date}\")\n",
    "\n",
    "# Create future dates\n",
    "future_dates = []\n",
    "for i in range(1, 6):  # Next 5 days\n",
    "    future_date = last_date + timedelta(days=i)\n",
    "    future_dates.append(future_date)\n",
    "\n",
    "# Use the last available features for prediction\n",
    "# (This assumes market conditions remain similar)\n",
    "last_features = X_test.iloc[-1:].values  # Last row of features\n",
    "predictions = model.predict([last_features[0]] * 5)  # Same features for 5 days\n",
    "probabilities = model.predict_proba([last_features[0]] * 5)\n",
    "\n",
    "results = pd.DataFrame({\n",
    "    'Date': future_dates,\n",
    "    'Predicted_Direction': [target_names[p] for p in predictions],\n",
    "    'Prob_Down': probabilities[:, 0],\n",
    "    'Prob_Sideways': probabilities[:, 1],\n",
    "    'Prob_Up': probabilities[:, 2]\n",
    "})\n",
    "\n",
    "print(\"\\nFuture Predictions:\")\n",
    "print(results.round(3))"
   ]
  },
  {
   "cell_type": "code",
   "execution_count": 187,
   "metadata": {},
   "outputs": [
    {
     "name": "stdout",
     "output_type": "stream",
     "text": [
      "Collecting datetime\n",
      "  Downloading DateTime-5.5-py3-none-any.whl.metadata (33 kB)\n",
      "Collecting zope.interface (from datetime)\n",
      "  Downloading zope.interface-7.2-cp310-cp310-win_amd64.whl.metadata (45 kB)\n",
      "Requirement already satisfied: pytz in c:\\users\\suyas\\appdata\\local\\programs\\python\\python310\\lib\\site-packages (from datetime) (2024.1)\n",
      "Requirement already satisfied: setuptools in c:\\users\\suyas\\appdata\\local\\programs\\python\\python310\\lib\\site-packages (from zope.interface->datetime) (57.4.0)\n",
      "Downloading DateTime-5.5-py3-none-any.whl (52 kB)\n",
      "Downloading zope.interface-7.2-cp310-cp310-win_amd64.whl (211 kB)\n",
      "Installing collected packages: zope.interface, datetime\n",
      "Successfully installed datetime-5.5 zope.interface-7.2\n",
      "Note: you may need to restart the kernel to use updated packages.\n"
     ]
    },
    {
     "name": "stderr",
     "output_type": "stream",
     "text": [
      "\n",
      "[notice] A new release of pip is available: 25.0.1 -> 25.1.1\n",
      "[notice] To update, run: python.exe -m pip install --upgrade pip\n"
     ]
    }
   ],
   "source": [
    "pip install datetime"
   ]
  },
  {
   "cell_type": "code",
   "execution_count": 3,
   "metadata": {},
   "outputs": [
    {
     "ename": "NameError",
     "evalue": "name 'model' is not defined",
     "output_type": "error",
     "traceback": [
      "\u001b[1;31m---------------------------------------------------------------------------\u001b[0m",
      "\u001b[1;31mNameError\u001b[0m                                 Traceback (most recent call last)",
      "Cell \u001b[1;32mIn[3], line 5\u001b[0m\n\u001b[0;32m      2\u001b[0m \u001b[38;5;28;01mfrom\u001b[39;00m \u001b[38;5;21;01msklearn\u001b[39;00m\u001b[38;5;21;01m.\u001b[39;00m\u001b[38;5;21;01mtree\u001b[39;00m \u001b[38;5;28;01mimport\u001b[39;00m plot_tree\n\u001b[0;32m      4\u001b[0m plt\u001b[38;5;241m.\u001b[39mfigure(figsize\u001b[38;5;241m=\u001b[39m(\u001b[38;5;241m20\u001b[39m, \u001b[38;5;241m10\u001b[39m))\n\u001b[1;32m----> 5\u001b[0m plot_tree(\u001b[43mmodel\u001b[49m, filled\u001b[38;5;241m=\u001b[39m\u001b[38;5;28;01mTrue\u001b[39;00m, feature_names\u001b[38;5;241m=\u001b[39mX_train\u001b[38;5;241m.\u001b[39mcolumns, class_names\u001b[38;5;241m=\u001b[39m\u001b[38;5;28;01mTrue\u001b[39;00m, fontsize\u001b[38;5;241m=\u001b[39m\u001b[38;5;241m10\u001b[39m)\n\u001b[0;32m      6\u001b[0m plt\u001b[38;5;241m.\u001b[39mtitle(\u001b[38;5;124m\"\u001b[39m\u001b[38;5;124mDecision Tree Visualization\u001b[39m\u001b[38;5;124m\"\u001b[39m)\n\u001b[0;32m      7\u001b[0m plt\u001b[38;5;241m.\u001b[39mshow()\n",
      "\u001b[1;31mNameError\u001b[0m: name 'model' is not defined"
     ]
    },
    {
     "data": {
      "text/plain": [
       "<Figure size 2000x1000 with 0 Axes>"
      ]
     },
     "metadata": {},
     "output_type": "display_data"
    }
   ],
   "source": [
    "import matplotlib.pyplot as plt\n",
    "from sklearn.tree import plot_tree\n",
    "\n",
    "plt.figure(figsize=(20, 10))\n",
    "plot_tree(model, filled=True, feature_names=X_train.columns, class_names=True, fontsize=10)\n",
    "plt.title(\"Decision Tree Visualization\")\n",
    "plt.show()\n"
   ]
  }
 ],
 "metadata": {
  "kernelspec": {
   "display_name": "Python 3",
   "language": "python",
   "name": "python3"
  },
  "language_info": {
   "codemirror_mode": {
    "name": "ipython",
    "version": 3
   },
   "file_extension": ".py",
   "mimetype": "text/x-python",
   "name": "python",
   "nbconvert_exporter": "python",
   "pygments_lexer": "ipython3",
   "version": "3.10.0"
  }
 },
 "nbformat": 4,
 "nbformat_minor": 2
}
